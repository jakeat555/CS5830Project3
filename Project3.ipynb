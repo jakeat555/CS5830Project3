{
 "cells": [
  {
   "cell_type": "markdown",
   "id": "694d1cf9-ba44-4cce-aee5-a414cf56a2b8",
   "metadata": {},
   "source": [
    "# Project 3"
   ]
  },
  {
   "cell_type": "code",
   "execution_count": 29,
   "id": "8ae9dd21-acec-4782-a606-299fda0351b9",
   "metadata": {},
   "outputs": [],
   "source": [
    "import tweepy\n",
    "from tweepy import OAuthHandler\n",
    "from tweepy import API\n",
    "import numpy as np\n",
    "import pandas as pd\n",
    "import json\n",
    "\n",
    "C_KEY = 'pUErSwQPMaDQA6lMWLwGhWebK'\n",
    "C_SECRET = 's021bBt6gbitTD8IjfRezYJv9TATl9UTixWqajJa0jxZCxm3cm'\n",
    "A_TOKEN_KEY = '3193753885-kQl38iG2TKYr5XlOf26ORicVz4b9Wth1kOBGMh8'\n",
    "A_TOKEN_SECRET = 'UCgLxtao7EMSAZPzOpadoSdlQg1Y5Unf0nXxR2QNWYstK'\n",
    "\n",
    "auth = tweepy.OAuthHandler(C_KEY, C_SECRET)\n",
    "auth.set_access_token(A_TOKEN_KEY, A_TOKEN_SECRET)\n",
    "api = tweepy.API(auth,wait_on_rate_limit=True)"
   ]
  },
  {
   "cell_type": "markdown",
   "id": "93d3cfb9-c8d0-4845-a228-096a16edd869",
   "metadata": {},
   "source": [
    "# Brand sentiment analysis\n",
    "McDonalds McRib\n",
    "\n",
    "1. Get latest tweets\n",
    "    a. Mention \"McDonalds\" , menu items , tweets that have tagged @McDonalds\n",
    "2. Things to consider:\n",
    "    1. Number of likes, retweets\n",
    "    2. Positive or negative language\n",
    "        In the tweet\n",
    "        In the replies to tweet\n",
    "    3. Raw number\n",
    "3. Analysises that we will do\n",
    "    1. Plot day to day average sentiment level for the last year\n",
    "         \n",
    "         a. Maybe look at months or 7 day running average\n",
    "    1. Break it down by geo graphical location\n",
    "    1. Public interaction with their twitter account (num of likes and retweets)\n",
    "    1. Specificly for the McRib\n",
    "        a. What percenstange of negavite tweets include a picture"
   ]
  },
  {
   "cell_type": "code",
   "execution_count": 52,
   "id": "ae6f2d91-543c-4cb5-92dd-37bec830ba1c",
   "metadata": {},
   "outputs": [],
   "source": [
    "with open('McRibPreAnnouncement.json','w') as file:\n",
    "    apiTwitter = api.search_full_archive( \n",
    "    label = 'beta', \n",
    "    query = 'McRib',\n",
    "    fromDate='202109220801',\n",
    "    toDate = '202109290801')\n",
    "    for tweet in apiTwitter:\n",
    "        json.dump(tweet._json,file)\n",
    "        file.write('\\n')"
   ]
  },
  {
   "cell_type": "code",
   "execution_count": 54,
   "id": "c01609bf-6a01-4f31-93d3-a936ec9a02f5",
   "metadata": {},
   "outputs": [],
   "source": [
    "with open('McRibPostAnnouncement.json','w') as file:\n",
    "    apiTwitter = api.search_full_archive( \n",
    "    label = 'beta', \n",
    "    query = 'McRib',\n",
    "    fromDate='202109290802',\n",
    "    toDate = '202110060802')\n",
    "    for tweet in apiTwitter:\n",
    "        json.dump(tweet._json,file)\n",
    "        file.write('\\n')"
   ]
  },
  {
   "cell_type": "code",
   "execution_count": 58,
   "id": "47de77cf-16b4-4183-ae26-474a1646ec81",
   "metadata": {},
   "outputs": [],
   "source": [
    "with open('McRibPreRelease.json','w') as file:\n",
    "    apiTwitter = api.search_full_archive( \n",
    "    label = 'beta', \n",
    "    query = 'McRib -@I_Am_Stevie_Z',\n",
    "    fromDate='202110250000',\n",
    "    toDate = '202111010000')\n",
    "    for tweet in apiTwitter:\n",
    "        json.dump(tweet._json,file)\n",
    "        file.write('\\n')"
   ]
  },
  {
   "cell_type": "code",
   "execution_count": 57,
   "id": "5e4e96d1-f7e6-466c-9ec8-4319039448b1",
   "metadata": {},
   "outputs": [],
   "source": [
    "with open('McRibPostRelease.json','w') as file:\n",
    "    apiTwitter = api.search_full_archive( \n",
    "    label = 'beta', \n",
    "    query = 'McRib -@McDonalds',\n",
    "    fromDate='202111010001',\n",
    "    toDate = '202111080001')\n",
    "    for tweet in apiTwitter:\n",
    "        json.dump(tweet._json,file)\n",
    "        file.write('\\n')"
   ]
  },
  {
   "cell_type": "code",
   "execution_count": 52,
   "id": "7033ffa5-d458-4c49-b13d-c1f6f4d75070",
   "metadata": {},
   "outputs": [],
   "source": [
    "# query = 'McDonalds McRib'\n",
    "# with open('McDonaldsData.json','w') as file:\n",
    "#     for tweet in tweepy.Cursor(api.search_tweets, query, count=1).items(10000):\n",
    "#         json.dump(tweet._json, file)\n",
    "#         file.write('\\n')\n",
    "  "
   ]
  },
  {
   "cell_type": "code",
   "execution_count": 42,
   "id": "1de10bea-2296-4f3e-8466-a89f270d2510",
   "metadata": {},
   "outputs": [],
   "source": [
    "      \n",
    "followersDF = pd.read_json('followers.json',lines=True)    "
   ]
  }
 ],
 "metadata": {
  "kernelspec": {
   "display_name": "Python 3 (ipykernel)",
   "language": "python",
   "name": "python3"
  },
  "language_info": {
   "codemirror_mode": {
    "name": "ipython",
    "version": 3
   },
   "file_extension": ".py",
   "mimetype": "text/x-python",
   "name": "python",
   "nbconvert_exporter": "python",
   "pygments_lexer": "ipython3",
   "version": "3.9.13"
  }
 },
 "nbformat": 4,
 "nbformat_minor": 5
}

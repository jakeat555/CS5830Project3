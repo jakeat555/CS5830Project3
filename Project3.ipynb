{
 "cells": [
  {
   "cell_type": "markdown",
   "id": "694d1cf9-ba44-4cce-aee5-a414cf56a2b8",
   "metadata": {},
   "source": [
    "# Project 3"
   ]
  },
  {
   "cell_type": "code",
   "execution_count": 29,
   "id": "8ae9dd21-acec-4782-a606-299fda0351b9",
   "metadata": {},
   "outputs": [],
   "source": [
    "import tweepy\n",
    "from tweepy import OAuthHandler\n",
    "from tweepy import API\n",
    "import numpy as np\n",
    "import pandas as pd\n",
    "import json\n",
    "\n",
    "C_KEY = 'pUErSwQPMaDQA6lMWLwGhWebK'\n",
    "C_SECRET = 's021bBt6gbitTD8IjfRezYJv9TATl9UTixWqajJa0jxZCxm3cm'\n",
    "A_TOKEN_KEY = '3193753885-kQl38iG2TKYr5XlOf26ORicVz4b9Wth1kOBGMh8'\n",
    "A_TOKEN_SECRET = 'UCgLxtao7EMSAZPzOpadoSdlQg1Y5Unf0nXxR2QNWYstK'\n",
    "\n",
    "auth = tweepy.OAuthHandler(C_KEY, C_SECRET)\n",
    "auth.set_access_token(A_TOKEN_KEY, A_TOKEN_SECRET)\n",
    "api = tweepy.API(auth,wait_on_rate_limit=True)"
   ]
  },
  {
   "cell_type": "markdown",
   "id": "93d3cfb9-c8d0-4845-a228-096a16edd869",
   "metadata": {},
   "source": [
    "# Brand sentiment analysis\n",
    "McDonalds McRib\n",
    "\n",
    "1. Get latest tweets\n",
    "    a. Mention \"McDonalds\" , menu items , tweets that have tagged @McDonalds\n",
    "2. Things to consider:\n",
    "    1. Number of likes, retweets\n",
    "    2. Positive or negative language\n",
    "        In the tweet\n",
    "        In the replies to tweet\n",
    "    3. Raw number\n",
    "3. Analysises that we will do\n",
    "    1. Plot day to day average sentiment level for the last year\n",
    "         \n",
    "         a. Maybe look at months or 7 day running average\n",
    "    1. Break it down by geo graphical location\n",
    "    1. Public interaction with their twitter account (num of likes and retweets)\n",
    "    1. Specificly for the McRib\n",
    "        a. What percenstange of negavite tweets include a picture"
   ]
  },
  {
   "cell_type": "code",
   "execution_count": 42,
   "id": "29380f37-590b-4560-9bfa-1e85468949f1",
   "metadata": {},
   "outputs": [],
   "source": [
    "with open('McDonaldsData.json','w') as file:\n",
    "    apiTwitter = api.search( \n",
    "    label = 'beta', \n",
    "    query = 'McDonalds McRib',\n",
    "    fromDate='202202090000',\n",
    "    toDate = '202302090000', maxResults = 100)\n",
    "    for tweet in apiTwitter:\n",
    "        json.dump(tweet._json,file)\n",
    "    \n",
    "\n",
    "        #posts.append(tweet._json)\n",
    "# print(tweets)"
   ]
  }
 ],
 "metadata": {
  "kernelspec": {
   "display_name": "Python 3 (ipykernel)",
   "language": "python",
   "name": "python3"
  },
  "language_info": {
   "codemirror_mode": {
    "name": "ipython",
    "version": 3
   },
   "file_extension": ".py",
   "mimetype": "text/x-python",
   "name": "python",
   "nbconvert_exporter": "python",
   "pygments_lexer": "ipython3",
   "version": "3.9.13"
  }
 },
 "nbformat": 4,
 "nbformat_minor": 5
}

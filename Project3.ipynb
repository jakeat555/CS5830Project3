{
 "cells": [
  {
   "cell_type": "markdown",
   "id": "694d1cf9-ba44-4cce-aee5-a414cf56a2b8",
   "metadata": {},
   "source": [
    "# Project 3"
   ]
  },
  {
   "cell_type": "code",
   "execution_count": null,
   "id": "8ae9dd21-acec-4782-a606-299fda0351b9",
   "metadata": {},
   "outputs": [],
   "source": [
    "import tweepy\n",
    "from tweepy import OAuthHandler\n",
    "from tweepy import API\n",
    "import numpy as np\n",
    "import pandas as pd\n",
    "\n",
    "C_KEY = 'pUErSwQPMaDQA6lMWLwGhWebK'\n",
    "C_SECRET = 's021bBt6gbitTD8IjfRezYJv9TATl9UTixWqajJa0jxZCxm3cm'\n",
    "A_TOKEN_KEY = '3193753885-kQl38iG2TKYr5XlOf26ORicVz4b9Wth1kOBGMh8'\n",
    "A_TOKEN_SECRET = 'UCgLxtao7EMSAZPzOpadoSdlQg1Y5Unf0nXxR2QNWYstK'\n",
    "\n",
    "auth = tweepy.OAuthHandler(C_KEY, C_SECRET)\n",
    "auth.set_access_token(A_TOKEN_KEY, A_TOKEN_SECRET)\n",
    "api = tweepy.API(auth)"
   ]
  },
  {
   "cell_type": "code",
   "execution_count": null,
   "id": "29380f37-590b-4560-9bfa-1e85468949f1",
   "metadata": {},
   "outputs": [],
   "source": [
    "query = \"potato\"\n",
    "posts = []\n",
    "for tweet in tweepy.Cursor(api.search_tweets, query, count=1).items(5):\n",
    "        posts.append(tweet._json)\n",
    "print(posts)"
   ]
  }
 ],
 "metadata": {
  "kernelspec": {
   "display_name": "Python 3 (ipykernel)",
   "language": "python",
   "name": "python3"
  },
  "language_info": {
   "codemirror_mode": {
    "name": "ipython",
    "version": 3
   },
   "file_extension": ".py",
   "mimetype": "text/x-python",
   "name": "python",
   "nbconvert_exporter": "python",
   "pygments_lexer": "ipython3",
   "version": "3.9.13"
  }
 },
 "nbformat": 4,
 "nbformat_minor": 5
}

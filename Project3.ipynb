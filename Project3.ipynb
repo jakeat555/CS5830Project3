{
 "cells": [
  {
   "cell_type": "markdown",
   "id": "694d1cf9-ba44-4cce-aee5-a414cf56a2b8",
   "metadata": {},
   "source": [
    "# Project 3"
   ]
  }
 ],
 "metadata": {
  "kernelspec": {
   "display_name": "Python 3 (ipykernel)",
   "language": "python",
   "name": "python3"
  },
  "language_info": {
   "codemirror_mode": {
    "name": "ipython",
    "version": 3
   },
   "file_extension": ".py",
   "mimetype": "text/x-python",
   "name": "python",
   "nbconvert_exporter": "python",
   "pygments_lexer": "ipython3",
   "version": "3.9.13"
  }
 },
 "nbformat": 4,
 "nbformat_minor": 5
}
